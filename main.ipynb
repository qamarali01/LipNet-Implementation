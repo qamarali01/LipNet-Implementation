{
 "cells": [
  {
   "cell_type": "code",
   "execution_count": 1,
   "id": "f94d6e68-a7bd-436a-926c-0bc67b4e6743",
   "metadata": {
    "collapsed": true,
    "jupyter": {
     "outputs_hidden": true
    },
    "tags": []
   },
   "outputs": [
    {
     "name": "stdout",
     "output_type": "stream",
     "text": [
      "Collecting opencv-python\n",
      "  Downloading opencv_python-4.10.0.84-cp37-abi3-macosx_11_0_arm64.whl (54.8 MB)\n",
      "\u001b[2K     \u001b[90m━━━━━━━━━━━━━━━━━━━━━━━━━━━━━━━━━━━━━━━━\u001b[0m \u001b[32m54.8/54.8 MB\u001b[0m \u001b[31m12.1 MB/s\u001b[0m eta \u001b[36m0:00:00\u001b[0m00:01\u001b[0m00:01\u001b[0m\n",
      "\u001b[?25hRequirement already satisfied: matplotlib in /Users/qamarali/Desktop/sample/env/lib/python3.11/site-packages (3.9.2)\n",
      "Collecting imageio\n",
      "  Downloading imageio-2.36.1-py3-none-any.whl (315 kB)\n",
      "\u001b[2K     \u001b[90m━━━━━━━━━━━━━━━━━━━━━━━━━━━━━━━━━━━━━━\u001b[0m \u001b[32m315.4/315.4 kB\u001b[0m \u001b[31m11.5 MB/s\u001b[0m eta \u001b[36m0:00:00\u001b[0m\n",
      "\u001b[?25hCollecting gdown\n",
      "  Downloading gdown-5.2.0-py3-none-any.whl (18 kB)\n",
      "Requirement already satisfied: tensorflow in /Users/qamarali/Desktop/sample/env/lib/python3.11/site-packages (2.18.0)\n",
      "Requirement already satisfied: numpy>=1.21.2 in /Users/qamarali/Desktop/sample/env/lib/python3.11/site-packages (from opencv-python) (1.24.3)\n",
      "Requirement already satisfied: contourpy>=1.0.1 in /Users/qamarali/Desktop/sample/env/lib/python3.11/site-packages (from matplotlib) (1.0.5)\n",
      "Requirement already satisfied: cycler>=0.10 in /Users/qamarali/Desktop/sample/env/lib/python3.11/site-packages (from matplotlib) (0.11.0)\n",
      "Requirement already satisfied: fonttools>=4.22.0 in /Users/qamarali/Desktop/sample/env/lib/python3.11/site-packages (from matplotlib) (4.25.0)\n",
      "Requirement already satisfied: kiwisolver>=1.3.1 in /Users/qamarali/Desktop/sample/env/lib/python3.11/site-packages (from matplotlib) (1.4.4)\n",
      "Requirement already satisfied: packaging>=20.0 in /Users/qamarali/Desktop/sample/env/lib/python3.11/site-packages (from matplotlib) (24.1)\n",
      "Requirement already satisfied: pillow>=8 in /Users/qamarali/Desktop/sample/env/lib/python3.11/site-packages (from matplotlib) (9.4.0)\n",
      "Requirement already satisfied: pyparsing>=2.3.1 in /Users/qamarali/Desktop/sample/env/lib/python3.11/site-packages (from matplotlib) (3.0.9)\n",
      "Requirement already satisfied: python-dateutil>=2.7 in /Users/qamarali/Desktop/sample/env/lib/python3.11/site-packages (from matplotlib) (2.8.2)\n",
      "Requirement already satisfied: beautifulsoup4 in /Users/qamarali/Desktop/sample/env/lib/python3.11/site-packages (from gdown) (4.11.1)\n",
      "Requirement already satisfied: filelock in /Users/qamarali/Desktop/sample/env/lib/python3.11/site-packages (from gdown) (3.15.4)\n",
      "Requirement already satisfied: requests[socks] in /Users/qamarali/Desktop/sample/env/lib/python3.11/site-packages (from gdown) (2.28.1)\n",
      "Requirement already satisfied: tqdm in /Users/qamarali/Desktop/sample/env/lib/python3.11/site-packages (from gdown) (4.66.5)\n",
      "Requirement already satisfied: absl-py>=1.0.0 in /Users/qamarali/Desktop/sample/env/lib/python3.11/site-packages (from tensorflow) (2.1.0)\n",
      "Requirement already satisfied: astunparse>=1.6.0 in /Users/qamarali/Desktop/sample/env/lib/python3.11/site-packages (from tensorflow) (1.6.3)\n",
      "Requirement already satisfied: flatbuffers>=24.3.25 in /Users/qamarali/Desktop/sample/env/lib/python3.11/site-packages (from tensorflow) (24.3.25)\n",
      "Requirement already satisfied: gast!=0.5.0,!=0.5.1,!=0.5.2,>=0.2.1 in /Users/qamarali/Desktop/sample/env/lib/python3.11/site-packages (from tensorflow) (0.6.0)\n",
      "Requirement already satisfied: google-pasta>=0.1.1 in /Users/qamarali/Desktop/sample/env/lib/python3.11/site-packages (from tensorflow) (0.2.0)\n",
      "Requirement already satisfied: libclang>=13.0.0 in /Users/qamarali/Desktop/sample/env/lib/python3.11/site-packages (from tensorflow) (18.1.1)\n",
      "Requirement already satisfied: opt-einsum>=2.3.2 in /Users/qamarali/Desktop/sample/env/lib/python3.11/site-packages (from tensorflow) (3.4.0)\n",
      "Requirement already satisfied: protobuf!=4.21.0,!=4.21.1,!=4.21.2,!=4.21.3,!=4.21.4,!=4.21.5,<6.0.0dev,>=3.20.3 in /Users/qamarali/Desktop/sample/env/lib/python3.11/site-packages (from tensorflow) (5.28.3)\n",
      "Requirement already satisfied: setuptools in /Users/qamarali/Desktop/sample/env/lib/python3.11/site-packages (from tensorflow) (65.6.3)\n",
      "Requirement already satisfied: six>=1.12.0 in /Users/qamarali/Desktop/sample/env/lib/python3.11/site-packages (from tensorflow) (1.16.0)\n",
      "Requirement already satisfied: termcolor>=1.1.0 in /Users/qamarali/Desktop/sample/env/lib/python3.11/site-packages (from tensorflow) (2.5.0)\n",
      "Requirement already satisfied: typing-extensions>=3.6.6 in /Users/qamarali/Desktop/sample/env/lib/python3.11/site-packages (from tensorflow) (4.12.2)\n",
      "Requirement already satisfied: wrapt>=1.11.0 in /Users/qamarali/Desktop/sample/env/lib/python3.11/site-packages (from tensorflow) (1.16.0)\n",
      "Requirement already satisfied: grpcio<2.0,>=1.24.3 in /Users/qamarali/Desktop/sample/env/lib/python3.11/site-packages (from tensorflow) (1.67.1)\n",
      "Requirement already satisfied: tensorboard<2.19,>=2.18 in /Users/qamarali/Desktop/sample/env/lib/python3.11/site-packages (from tensorflow) (2.18.0)\n",
      "Requirement already satisfied: keras>=3.5.0 in /Users/qamarali/Desktop/sample/env/lib/python3.11/site-packages (from tensorflow) (3.6.0)\n",
      "Collecting numpy>=1.21.2\n",
      "  Using cached numpy-2.0.2-cp311-cp311-macosx_14_0_arm64.whl (5.3 MB)\n",
      "Requirement already satisfied: h5py>=3.11.0 in /Users/qamarali/Desktop/sample/env/lib/python3.11/site-packages (from tensorflow) (3.12.1)\n",
      "Requirement already satisfied: ml-dtypes<0.5.0,>=0.4.0 in /Users/qamarali/Desktop/sample/env/lib/python3.11/site-packages (from tensorflow) (0.4.1)\n",
      "Requirement already satisfied: tensorflow-io-gcs-filesystem>=0.23.1 in /Users/qamarali/Desktop/sample/env/lib/python3.11/site-packages (from tensorflow) (0.37.1)\n",
      "Requirement already satisfied: wheel<1.0,>=0.23.0 in /Users/qamarali/Desktop/sample/env/lib/python3.11/site-packages (from astunparse>=1.6.0->tensorflow) (0.38.4)\n",
      "Requirement already satisfied: rich in /Users/qamarali/Desktop/sample/env/lib/python3.11/site-packages (from keras>=3.5.0->tensorflow) (13.9.2)\n",
      "Requirement already satisfied: namex in /Users/qamarali/Desktop/sample/env/lib/python3.11/site-packages (from keras>=3.5.0->tensorflow) (0.0.8)\n",
      "Requirement already satisfied: optree in /Users/qamarali/Desktop/sample/env/lib/python3.11/site-packages (from keras>=3.5.0->tensorflow) (0.13.1)\n",
      "Requirement already satisfied: charset-normalizer<3,>=2 in /Users/qamarali/Desktop/sample/env/lib/python3.11/site-packages (from requests[socks]->gdown) (2.0.4)\n",
      "Requirement already satisfied: idna<4,>=2.5 in /Users/qamarali/Desktop/sample/env/lib/python3.11/site-packages (from requests[socks]->gdown) (3.4)\n",
      "Requirement already satisfied: urllib3<1.27,>=1.21.1 in /Users/qamarali/Desktop/sample/env/lib/python3.11/site-packages (from requests[socks]->gdown) (1.26.15)\n",
      "Requirement already satisfied: certifi>=2017.4.17 in /Users/qamarali/Desktop/sample/env/lib/python3.11/site-packages (from requests[socks]->gdown) (2023.7.22)\n",
      "Requirement already satisfied: markdown>=2.6.8 in /Users/qamarali/Desktop/sample/env/lib/python3.11/site-packages (from tensorboard<2.19,>=2.18->tensorflow) (3.7)\n",
      "Requirement already satisfied: tensorboard-data-server<0.8.0,>=0.7.0 in /Users/qamarali/Desktop/sample/env/lib/python3.11/site-packages (from tensorboard<2.19,>=2.18->tensorflow) (0.7.2)\n",
      "Requirement already satisfied: werkzeug>=1.0.1 in /Users/qamarali/Desktop/sample/env/lib/python3.11/site-packages (from tensorboard<2.19,>=2.18->tensorflow) (3.1.3)\n",
      "Requirement already satisfied: soupsieve>1.2 in /Users/qamarali/Desktop/sample/env/lib/python3.11/site-packages (from beautifulsoup4->gdown) (2.3.2.post1)\n",
      "Requirement already satisfied: PySocks!=1.5.7,>=1.5.6 in /Users/qamarali/Desktop/sample/env/lib/python3.11/site-packages (from requests[socks]->gdown) (1.7.1)\n",
      "Requirement already satisfied: MarkupSafe>=2.1.1 in /Users/qamarali/Desktop/sample/env/lib/python3.11/site-packages (from werkzeug>=1.0.1->tensorboard<2.19,>=2.18->tensorflow) (2.1.1)\n",
      "Requirement already satisfied: markdown-it-py>=2.2.0 in /Users/qamarali/Desktop/sample/env/lib/python3.11/site-packages (from rich->keras>=3.5.0->tensorflow) (3.0.0)\n",
      "Requirement already satisfied: pygments<3.0.0,>=2.13.0 in /Users/qamarali/Desktop/sample/env/lib/python3.11/site-packages (from rich->keras>=3.5.0->tensorflow) (2.18.0)\n",
      "Requirement already satisfied: mdurl~=0.1 in /Users/qamarali/Desktop/sample/env/lib/python3.11/site-packages (from markdown-it-py>=2.2.0->rich->keras>=3.5.0->tensorflow) (0.1.2)\n",
      "Installing collected packages: numpy, opencv-python, imageio, gdown\n",
      "  Attempting uninstall: numpy\n",
      "    Found existing installation: numpy 1.24.3\n",
      "    Uninstalling numpy-1.24.3:\n",
      "      Successfully uninstalled numpy-1.24.3\n",
      "\u001b[31mERROR: pip's dependency resolver does not currently take into account all the packages that are installed. This behaviour is the source of the following dependency conflicts.\n",
      "langchain 0.2.14 requires numpy<2,>=1; python_version < \"3.12\", but you have numpy 2.0.2 which is incompatible.\n",
      "scipy 1.10.0 requires numpy<1.27.0,>=1.19.5, but you have numpy 2.0.2 which is incompatible.\n",
      "langchain-community 0.2.12 requires numpy<2,>=1; python_version < \"3.12\", but you have numpy 2.0.2 which is incompatible.\u001b[0m\u001b[31m\n",
      "\u001b[0mSuccessfully installed gdown-5.2.0 imageio-2.36.1 numpy-2.0.2 opencv-python-4.10.0.84\n"
     ]
    }
   ],
   "source": [
    "!pip install opencv-python matplotlib imageio gdown tensorflow-macos tensorflow-metal"
   ]
  },
  {
   "cell_type": "code",
   "execution_count": 7,
   "id": "87468190-1a42-4c5a-8b14-1b0344fc5ff1",
   "metadata": {},
   "outputs": [],
   "source": [
    "# pip install numpy==1.24.3 pandas==1.5.3\n"
   ]
  },
  {
   "cell_type": "code",
   "execution_count": 8,
   "id": "f45ce9e4-c5c6-40e1-a4e1-8833d36867ec",
   "metadata": {
    "collapsed": true,
    "jupyter": {
     "outputs_hidden": true
    },
    "tags": []
   },
   "outputs": [
    {
     "name": "stdout",
     "output_type": "stream",
     "text": [
      "Package                      Version\n",
      "---------------------------- -----------\n",
      "absl-py                      2.1.0\n",
      "aiohappyeyeballs             2.4.0\n",
      "aiohttp                      3.10.5\n",
      "aiosignal                    1.3.1\n",
      "annotated-types              0.7.0\n",
      "anyio                        3.5.0\n",
      "appdirs                      1.4.4\n",
      "appnope                      0.1.2\n",
      "argon2-cffi                  21.3.0\n",
      "argon2-cffi-bindings         21.2.0\n",
      "asttokens                    2.0.5\n",
      "astunparse                   1.6.3\n",
      "attrs                        24.2.0\n",
      "Babel                        2.11.0\n",
      "backcall                     0.2.0\n",
      "beautifulsoup4               4.11.1\n",
      "bleach                       4.1.0\n",
      "blis                         1.0.1\n",
      "Bottleneck                   1.3.5\n",
      "brotlipy                     0.7.0\n",
      "catalogue                    2.0.10\n",
      "certifi                      2023.7.22\n",
      "cffi                         1.15.1\n",
      "charset-normalizer           2.0.4\n",
      "click                        8.1.7\n",
      "cloudpathlib                 0.20.0\n",
      "comm                         0.1.2\n",
      "confection                   0.1.5\n",
      "constants                    0.6.0\n",
      "contourpy                    1.0.5\n",
      "cryptography                 39.0.1\n",
      "cycler                       0.11.0\n",
      "cymem                        2.0.8\n",
      "dataclasses-json             0.5.14\n",
      "debugpy                      1.5.1\n",
      "decorator                    5.1.1\n",
      "defusedxml                   0.7.1\n",
      "distro                       1.9.0\n",
      "en_core_web_sm               3.8.0\n",
      "entrypoints                  0.4\n",
      "et-xmlfile                   1.1.0\n",
      "executing                    0.8.3\n",
      "fastjsonschema               2.16.2\n",
      "filelock                     3.15.4\n",
      "flatbuffers                  24.3.25\n",
      "flit_core                    3.8.0\n",
      "fonttools                    4.25.0\n",
      "frozenlist                   1.4.1\n",
      "fsspec                       2024.6.1\n",
      "gast                         0.6.0\n",
      "gdown                        5.2.0\n",
      "google-pasta                 0.2.0\n",
      "greenlet                     3.0.3\n",
      "grpcio                       1.67.1\n",
      "h11                          0.14.0\n",
      "h5py                         3.12.1\n",
      "httpcore                     1.0.5\n",
      "httpx                        0.27.0\n",
      "huggingface-hub              0.24.6\n",
      "idna                         3.4\n",
      "imageio                      2.36.1\n",
      "imbalanced-learn             0.12.4\n",
      "imblearn                     0.0\n",
      "ipykernel                    6.19.2\n",
      "ipython                      8.10.0\n",
      "ipython-genutils             0.2.0\n",
      "ipywidgets                   8.0.4\n",
      "jedi                         0.18.1\n",
      "Jinja2                       3.1.2\n",
      "jiter                        0.5.0\n",
      "joblib                       1.1.1\n",
      "json5                        0.9.6\n",
      "jsonpatch                    1.33\n",
      "jsonpointer                  3.0.0\n",
      "jsonschema                   4.17.3\n",
      "jupyter                      1.0.0\n",
      "jupyter_client               8.1.0\n",
      "jupyter-console              6.6.3\n",
      "jupyter_core                 5.3.0\n",
      "jupyter-server               1.23.4\n",
      "jupyterlab                   3.5.3\n",
      "jupyterlab-pygments          0.1.2\n",
      "jupyterlab_server            2.21.0\n",
      "jupyterlab-widgets           3.0.5\n",
      "jupyterthemes                0.20.0\n",
      "kagglehub                    0.3.4\n",
      "keras                        3.6.0\n",
      "kiwisolver                   1.4.4\n",
      "langchain                    0.2.14\n",
      "langchain-community          0.2.12\n",
      "langchain-core               0.2.35\n",
      "langchain-openai             0.1.22\n",
      "langchain-text-splitters     0.2.2\n",
      "langcodes                    3.4.1\n",
      "langsmith                    0.1.104\n",
      "language_data                1.2.0\n",
      "lesscpy                      0.15.1\n",
      "libclang                     18.1.1\n",
      "lxml                         4.9.1\n",
      "marisa-trie                  1.2.1\n",
      "Markdown                     3.7\n",
      "markdown-it-py               3.0.0\n",
      "markdownify                  0.12.1\n",
      "MarkupSafe                   2.1.1\n",
      "marshmallow                  3.22.0\n",
      "matplotlib                   3.9.2\n",
      "matplotlib-inline            0.1.6\n",
      "mdurl                        0.1.2\n",
      "mistune                      0.8.4\n",
      "ml-dtypes                    0.4.1\n",
      "mpmath                       1.3.0\n",
      "multidict                    6.0.5\n",
      "munkres                      1.1.4\n",
      "murmurhash                   1.0.10\n",
      "my-module                    1.6.2\n",
      "mypy-extensions              1.0.0\n",
      "namex                        0.0.8\n",
      "nbclassic                    0.5.3\n",
      "nbclient                     0.5.13\n",
      "nbconvert                    6.5.4\n",
      "nbformat                     5.7.0\n",
      "nest-asyncio                 1.5.6\n",
      "networkx                     3.3\n",
      "nltk                         3.9.1\n",
      "notebook                     6.5.3\n",
      "notebook_shim                0.2.2\n",
      "numexpr                      2.8.4\n",
      "numpy                        1.24.3\n",
      "openai                       1.43.0\n",
      "openapi-schema-pydantic      1.2.4\n",
      "opencv-python                4.10.0.84\n",
      "openpyxl                     3.1.5\n",
      "opt_einsum                   3.4.0\n",
      "optree                       0.13.1\n",
      "orjson                       3.10.7\n",
      "outcome                      1.3.0.post0\n",
      "packaging                    24.1\n",
      "pandas                       1.5.3\n",
      "pandocfilters                1.5.0\n",
      "parsera                      0.1.4\n",
      "parso                        0.8.3\n",
      "pdfkit                       1.0.0\n",
      "pexpect                      4.8.0\n",
      "pickleshare                  0.7.5\n",
      "Pillow                       9.4.0\n",
      "pip                          23.0.1\n",
      "platformdirs                 2.5.2\n",
      "playwright                   1.46.0\n",
      "playwright-stealth           1.0.6\n",
      "plotly                       5.24.1\n",
      "ply                          3.11\n",
      "pooch                        1.4.0\n",
      "preshed                      3.0.9\n",
      "prometheus-client            0.14.1\n",
      "prompt-toolkit               3.0.36\n",
      "protobuf                     5.28.3\n",
      "psutil                       5.9.0\n",
      "ptyprocess                   0.7.0\n",
      "pure-eval                    0.2.2\n",
      "pyarrow                      17.0.0\n",
      "pycparser                    2.21\n",
      "pydantic                     1.10.18\n",
      "pydantic_core                2.20.1\n",
      "pyee                         11.1.0\n",
      "Pygments                     2.18.0\n",
      "pyOpenSSL                    23.0.0\n",
      "pyparsing                    3.0.9\n",
      "PyQt5-sip                    12.11.0\n",
      "pyrsistent                   0.18.0\n",
      "PySocks                      1.7.1\n",
      "python-dateutil              2.8.2\n",
      "pytz                         2022.7\n",
      "PyYAML                       6.0.2\n",
      "pyzmq                        23.2.0\n",
      "qtconsole                    5.4.0\n",
      "QtPy                         2.2.0\n",
      "regex                        2024.7.24\n",
      "requests                     2.28.1\n",
      "response                     0.5.0\n",
      "result                       0.17.0\n",
      "rich                         13.9.2\n",
      "safetensors                  0.4.4\n",
      "scikit-learn                 1.3.0\n",
      "scikit-plot                  0.3.7\n",
      "scipy                        1.10.0\n",
      "seaborn                      0.12.2\n",
      "selenium                     4.23.1\n",
      "Send2Trash                   1.8.0\n",
      "sentence-transformers        3.0.1\n",
      "setuptools                   65.6.3\n",
      "shellingham                  1.5.4\n",
      "sip                          6.6.2\n",
      "six                          1.16.0\n",
      "smart-open                   7.0.5\n",
      "sniffio                      1.3.1\n",
      "sortedcontainers             2.4.0\n",
      "soupsieve                    2.3.2.post1\n",
      "spacy                        3.8.2\n",
      "spacy-legacy                 3.0.12\n",
      "spacy-loggers                1.0.5\n",
      "SQLAlchemy                   2.0.32\n",
      "srsly                        2.4.8\n",
      "stack-data                   0.2.0\n",
      "stopwords                    1.0.1\n",
      "sympy                        1.13.1\n",
      "tenacity                     8.5.0\n",
      "tensorboard                  2.18.0\n",
      "tensorboard-data-server      0.7.2\n",
      "tensorflow                   2.18.0\n",
      "tensorflow-io-gcs-filesystem 0.37.1\n",
      "termcolor                    2.5.0\n",
      "terminado                    0.17.1\n",
      "tf_keras                     2.18.0\n",
      "thinc                        8.3.2\n",
      "threadpoolctl                2.2.0\n",
      "tiktoken                     0.7.0\n",
      "tinycss2                     1.2.1\n",
      "tokenizers                   0.19.1\n",
      "toml                         0.10.2\n",
      "tomli                        2.0.1\n",
      "torch                        2.0.0\n",
      "torchvision                  0.15.0\n",
      "tornado                      6.2\n",
      "tqdm                         4.66.5\n",
      "traitlets                    5.7.1\n",
      "transformers                 4.44.2\n",
      "trio                         0.26.2\n",
      "trio-websocket               0.11.1\n",
      "typer                        0.12.5\n",
      "typing_extensions            4.12.2\n",
      "typing-inspect               0.9.0\n",
      "urllib3                      1.26.15\n",
      "wasabi                       1.1.3\n",
      "wcwidth                      0.2.5\n",
      "weasel                       0.4.1\n",
      "webencodings                 0.5.1\n",
      "websocket-client             1.8.0\n",
      "Werkzeug                     3.1.3\n",
      "wheel                        0.38.4\n",
      "widgetsnbextension           4.0.5\n",
      "wordcloud                    1.9.3\n",
      "wrapt                        1.16.0\n",
      "wsproto                      1.2.0\n",
      "yarl                         1.9.4\n"
     ]
    }
   ],
   "source": [
    "!pip list"
   ]
  },
  {
   "cell_type": "code",
   "execution_count": 1,
   "id": "6b881f13-f9b1-47e3-a696-62bc1881f2d9",
   "metadata": {},
   "outputs": [],
   "source": [
    "import os\n",
    "import cv2\n",
    "import tensorflow as tf\n",
    "import numpy as np\n",
    "from typing import List\n",
    "from matplotlib import pyplot as plt\n",
    "import imageio"
   ]
  },
  {
   "cell_type": "code",
   "execution_count": 13,
   "id": "8b302cef-6b74-4f7f-bbcc-344e2b3c8a8d",
   "metadata": {
    "tags": []
   },
   "outputs": [
    {
     "name": "stdout",
     "output_type": "stream",
     "text": [
      "Found existing installation: tensorflow 2.18.0\n",
      "Uninstalling tensorflow-2.18.0:\n",
      "  Successfully uninstalled tensorflow-2.18.0\n",
      "Note: you may need to restart the kernel to use updated packages.\n"
     ]
    }
   ],
   "source": [
    "pip uninstall tensorflow -y"
   ]
  },
  {
   "cell_type": "code",
   "execution_count": 14,
   "id": "35b8e5c3-751f-40c9-9867-2d910f78e1be",
   "metadata": {
    "collapsed": true,
    "jupyter": {
     "outputs_hidden": true
    },
    "tags": []
   },
   "outputs": [
    {
     "name": "stdout",
     "output_type": "stream",
     "text": [
      "Collecting tensorflow-macos\n",
      "  Downloading tensorflow_macos-2.16.2-cp311-cp311-macosx_12_0_arm64.whl (2.1 kB)\n",
      "Collecting tensorflow==2.16.2\n",
      "  Downloading tensorflow-2.16.2-cp311-cp311-macosx_12_0_arm64.whl (227.0 MB)\n",
      "\u001b[2K     \u001b[90m━━━━━━━━━━━━━━━━━━━━━━━━━━━━━━━━━━━━━━━\u001b[0m \u001b[32m227.0/227.0 MB\u001b[0m \u001b[31m5.2 MB/s\u001b[0m eta \u001b[36m0:00:00\u001b[0m00:01\u001b[0m00:01\u001b[0m\n",
      "\u001b[?25hRequirement already satisfied: absl-py>=1.0.0 in /Users/qamarali/Desktop/sample/env/lib/python3.11/site-packages (from tensorflow==2.16.2->tensorflow-macos) (2.1.0)\n",
      "Requirement already satisfied: astunparse>=1.6.0 in /Users/qamarali/Desktop/sample/env/lib/python3.11/site-packages (from tensorflow==2.16.2->tensorflow-macos) (1.6.3)\n",
      "Requirement already satisfied: flatbuffers>=23.5.26 in /Users/qamarali/Desktop/sample/env/lib/python3.11/site-packages (from tensorflow==2.16.2->tensorflow-macos) (24.3.25)\n",
      "Requirement already satisfied: gast!=0.5.0,!=0.5.1,!=0.5.2,>=0.2.1 in /Users/qamarali/Desktop/sample/env/lib/python3.11/site-packages (from tensorflow==2.16.2->tensorflow-macos) (0.6.0)\n",
      "Requirement already satisfied: google-pasta>=0.1.1 in /Users/qamarali/Desktop/sample/env/lib/python3.11/site-packages (from tensorflow==2.16.2->tensorflow-macos) (0.2.0)\n",
      "Requirement already satisfied: h5py>=3.10.0 in /Users/qamarali/Desktop/sample/env/lib/python3.11/site-packages (from tensorflow==2.16.2->tensorflow-macos) (3.12.1)\n",
      "Requirement already satisfied: libclang>=13.0.0 in /Users/qamarali/Desktop/sample/env/lib/python3.11/site-packages (from tensorflow==2.16.2->tensorflow-macos) (18.1.1)\n",
      "Collecting ml-dtypes~=0.3.1\n",
      "  Downloading ml_dtypes-0.3.2-cp311-cp311-macosx_10_9_universal2.whl (389 kB)\n",
      "\u001b[2K     \u001b[90m━━━━━━━━━━━━━━━━━━━━━━━━━━━━━━━━━━━━━━━\u001b[0m \u001b[32m389.8/389.8 kB\u001b[0m \u001b[31m9.5 MB/s\u001b[0m eta \u001b[36m0:00:00\u001b[0m00:01\u001b[0m\n",
      "\u001b[?25hRequirement already satisfied: opt-einsum>=2.3.2 in /Users/qamarali/Desktop/sample/env/lib/python3.11/site-packages (from tensorflow==2.16.2->tensorflow-macos) (3.4.0)\n",
      "Requirement already satisfied: packaging in /Users/qamarali/Desktop/sample/env/lib/python3.11/site-packages (from tensorflow==2.16.2->tensorflow-macos) (24.1)\n",
      "Collecting protobuf!=4.21.0,!=4.21.1,!=4.21.2,!=4.21.3,!=4.21.4,!=4.21.5,<5.0.0dev,>=3.20.3\n",
      "  Downloading protobuf-4.25.5-cp37-abi3-macosx_10_9_universal2.whl (394 kB)\n",
      "\u001b[2K     \u001b[90m━━━━━━━━━━━━━━━━━━━━━━━━━━━━━━━━━━━━━━━\u001b[0m \u001b[32m394.2/394.2 kB\u001b[0m \u001b[31m9.3 MB/s\u001b[0m eta \u001b[36m0:00:00\u001b[0ma \u001b[36m0:00:01\u001b[0m\n",
      "\u001b[?25hRequirement already satisfied: requests<3,>=2.21.0 in /Users/qamarali/Desktop/sample/env/lib/python3.11/site-packages (from tensorflow==2.16.2->tensorflow-macos) (2.28.1)\n",
      "Requirement already satisfied: setuptools in /Users/qamarali/Desktop/sample/env/lib/python3.11/site-packages (from tensorflow==2.16.2->tensorflow-macos) (65.6.3)\n",
      "Requirement already satisfied: six>=1.12.0 in /Users/qamarali/Desktop/sample/env/lib/python3.11/site-packages (from tensorflow==2.16.2->tensorflow-macos) (1.16.0)\n",
      "Requirement already satisfied: termcolor>=1.1.0 in /Users/qamarali/Desktop/sample/env/lib/python3.11/site-packages (from tensorflow==2.16.2->tensorflow-macos) (2.5.0)\n",
      "Requirement already satisfied: typing-extensions>=3.6.6 in /Users/qamarali/Desktop/sample/env/lib/python3.11/site-packages (from tensorflow==2.16.2->tensorflow-macos) (4.12.2)\n",
      "Requirement already satisfied: wrapt>=1.11.0 in /Users/qamarali/Desktop/sample/env/lib/python3.11/site-packages (from tensorflow==2.16.2->tensorflow-macos) (1.16.0)\n",
      "Requirement already satisfied: grpcio<2.0,>=1.24.3 in /Users/qamarali/Desktop/sample/env/lib/python3.11/site-packages (from tensorflow==2.16.2->tensorflow-macos) (1.67.1)\n",
      "Collecting tensorboard<2.17,>=2.16\n",
      "  Downloading tensorboard-2.16.2-py3-none-any.whl (5.5 MB)\n",
      "\u001b[2K     \u001b[90m━━━━━━━━━━━━━━━━━━━━━━━━━━━━━━━━━━━━━━━━\u001b[0m \u001b[32m5.5/5.5 MB\u001b[0m \u001b[31m11.6 MB/s\u001b[0m eta \u001b[36m0:00:00\u001b[0m00:01\u001b[0m00:01\u001b[0m\n",
      "\u001b[?25hRequirement already satisfied: keras>=3.0.0 in /Users/qamarali/Desktop/sample/env/lib/python3.11/site-packages (from tensorflow==2.16.2->tensorflow-macos) (3.6.0)\n",
      "Requirement already satisfied: tensorflow-io-gcs-filesystem>=0.23.1 in /Users/qamarali/Desktop/sample/env/lib/python3.11/site-packages (from tensorflow==2.16.2->tensorflow-macos) (0.37.1)\n",
      "Requirement already satisfied: numpy<2.0.0,>=1.23.5 in /Users/qamarali/Desktop/sample/env/lib/python3.11/site-packages (from tensorflow==2.16.2->tensorflow-macos) (1.24.3)\n",
      "Requirement already satisfied: wheel<1.0,>=0.23.0 in /Users/qamarali/Desktop/sample/env/lib/python3.11/site-packages (from astunparse>=1.6.0->tensorflow==2.16.2->tensorflow-macos) (0.38.4)\n",
      "Requirement already satisfied: rich in /Users/qamarali/Desktop/sample/env/lib/python3.11/site-packages (from keras>=3.0.0->tensorflow==2.16.2->tensorflow-macos) (13.9.2)\n",
      "Requirement already satisfied: namex in /Users/qamarali/Desktop/sample/env/lib/python3.11/site-packages (from keras>=3.0.0->tensorflow==2.16.2->tensorflow-macos) (0.0.8)\n",
      "Requirement already satisfied: optree in /Users/qamarali/Desktop/sample/env/lib/python3.11/site-packages (from keras>=3.0.0->tensorflow==2.16.2->tensorflow-macos) (0.13.1)\n",
      "Requirement already satisfied: charset-normalizer<3,>=2 in /Users/qamarali/Desktop/sample/env/lib/python3.11/site-packages (from requests<3,>=2.21.0->tensorflow==2.16.2->tensorflow-macos) (2.0.4)\n",
      "Requirement already satisfied: idna<4,>=2.5 in /Users/qamarali/Desktop/sample/env/lib/python3.11/site-packages (from requests<3,>=2.21.0->tensorflow==2.16.2->tensorflow-macos) (3.4)\n",
      "Requirement already satisfied: urllib3<1.27,>=1.21.1 in /Users/qamarali/Desktop/sample/env/lib/python3.11/site-packages (from requests<3,>=2.21.0->tensorflow==2.16.2->tensorflow-macos) (1.26.15)\n",
      "Requirement already satisfied: certifi>=2017.4.17 in /Users/qamarali/Desktop/sample/env/lib/python3.11/site-packages (from requests<3,>=2.21.0->tensorflow==2.16.2->tensorflow-macos) (2023.7.22)\n",
      "Requirement already satisfied: markdown>=2.6.8 in /Users/qamarali/Desktop/sample/env/lib/python3.11/site-packages (from tensorboard<2.17,>=2.16->tensorflow==2.16.2->tensorflow-macos) (3.7)\n",
      "Requirement already satisfied: tensorboard-data-server<0.8.0,>=0.7.0 in /Users/qamarali/Desktop/sample/env/lib/python3.11/site-packages (from tensorboard<2.17,>=2.16->tensorflow==2.16.2->tensorflow-macos) (0.7.2)\n",
      "Requirement already satisfied: werkzeug>=1.0.1 in /Users/qamarali/Desktop/sample/env/lib/python3.11/site-packages (from tensorboard<2.17,>=2.16->tensorflow==2.16.2->tensorflow-macos) (3.1.3)\n",
      "Requirement already satisfied: MarkupSafe>=2.1.1 in /Users/qamarali/Desktop/sample/env/lib/python3.11/site-packages (from werkzeug>=1.0.1->tensorboard<2.17,>=2.16->tensorflow==2.16.2->tensorflow-macos) (2.1.1)\n",
      "Requirement already satisfied: markdown-it-py>=2.2.0 in /Users/qamarali/Desktop/sample/env/lib/python3.11/site-packages (from rich->keras>=3.0.0->tensorflow==2.16.2->tensorflow-macos) (3.0.0)\n",
      "Requirement already satisfied: pygments<3.0.0,>=2.13.0 in /Users/qamarali/Desktop/sample/env/lib/python3.11/site-packages (from rich->keras>=3.0.0->tensorflow==2.16.2->tensorflow-macos) (2.18.0)\n",
      "Requirement already satisfied: mdurl~=0.1 in /Users/qamarali/Desktop/sample/env/lib/python3.11/site-packages (from markdown-it-py>=2.2.0->rich->keras>=3.0.0->tensorflow==2.16.2->tensorflow-macos) (0.1.2)\n",
      "Installing collected packages: protobuf, ml-dtypes, tensorboard, tensorflow, tensorflow-macos\n",
      "  Attempting uninstall: protobuf\n",
      "    Found existing installation: protobuf 5.28.3\n",
      "    Uninstalling protobuf-5.28.3:\n",
      "      Successfully uninstalled protobuf-5.28.3\n",
      "  Attempting uninstall: ml-dtypes\n",
      "    Found existing installation: ml-dtypes 0.4.1\n",
      "    Uninstalling ml-dtypes-0.4.1:\n",
      "      Successfully uninstalled ml-dtypes-0.4.1\n",
      "  Attempting uninstall: tensorboard\n",
      "    Found existing installation: tensorboard 2.18.0\n",
      "    Uninstalling tensorboard-2.18.0:\n",
      "      Successfully uninstalled tensorboard-2.18.0\n",
      "\u001b[31mERROR: pip's dependency resolver does not currently take into account all the packages that are installed. This behaviour is the source of the following dependency conflicts.\n",
      "tf-keras 2.18.0 requires tensorflow<2.19,>=2.18, but you have tensorflow 2.16.2 which is incompatible.\u001b[0m\u001b[31m\n",
      "\u001b[0mSuccessfully installed ml-dtypes-0.3.2 protobuf-4.25.5 tensorboard-2.16.2 tensorflow-2.16.2 tensorflow-macos-2.16.2\n",
      "Note: you may need to restart the kernel to use updated packages.\n"
     ]
    }
   ],
   "source": [
    "pip install tensorflow-macos"
   ]
  },
  {
   "cell_type": "code",
   "execution_count": 16,
   "id": "5a3307ba-1e02-47e4-af77-a52b876d6617",
   "metadata": {
    "tags": []
   },
   "outputs": [
    {
     "name": "stdout",
     "output_type": "stream",
     "text": [
      "Collecting tensorflow-metal\n",
      "  Downloading tensorflow_metal-1.1.0-cp311-cp311-macosx_12_0_arm64.whl (1.4 MB)\n",
      "\u001b[2K     \u001b[90m━━━━━━━━━━━━━━━━━━━━━━━━━━━━━━━━━━━━━━━━\u001b[0m \u001b[32m1.4/1.4 MB\u001b[0m \u001b[31m14.0 MB/s\u001b[0m eta \u001b[36m0:00:00\u001b[0m \u001b[36m0:00:01\u001b[0m0m\n",
      "\u001b[?25hRequirement already satisfied: wheel~=0.35 in /Users/qamarali/Desktop/sample/env/lib/python3.11/site-packages (from tensorflow-metal) (0.38.4)\n",
      "Requirement already satisfied: six>=1.15.0 in /Users/qamarali/Desktop/sample/env/lib/python3.11/site-packages (from tensorflow-metal) (1.16.0)\n",
      "Installing collected packages: tensorflow-metal\n",
      "Successfully installed tensorflow-metal-1.1.0\n",
      "Note: you may need to restart the kernel to use updated packages.\n"
     ]
    }
   ],
   "source": [
    "pip install tensorflow-metal"
   ]
  },
  {
   "cell_type": "code",
   "execution_count": 125,
   "id": "5180f69d-4155-4f28-82b3-89d2c35f7d0f",
   "metadata": {},
   "outputs": [
    {
     "name": "stdout",
     "output_type": "stream",
     "text": [
      "Memory growth enabled for PhysicalDevice(name='/physical_device:GPU:0', device_type='GPU')\n"
     ]
    }
   ],
   "source": [
    "import tensorflow as tf\n",
    "\n",
    "# List physical devices\n",
    "physical_devices = tf.config.list_physical_devices('GPU')\n",
    "\n",
    "try:\n",
    "        # Set memory growth before any TensorFlow operations\n",
    "    tf.config.experimental.set_memory_growth(physical_devices[0], True)\n",
    "    print(\"Memory growth enabled for\", physical_devices[0])\n",
    "except:\n",
    "    pass"
   ]
  },
  {
   "cell_type": "code",
   "execution_count": 126,
   "id": "b2f5f5e0-7281-4487-bda5-308aaf59cb6a",
   "metadata": {},
   "outputs": [
    {
     "name": "stdout",
     "output_type": "stream",
     "text": [
      "[PhysicalDevice(name='/physical_device:GPU:0', device_type='GPU')]\n"
     ]
    }
   ],
   "source": [
    "print(tf.config.list_physical_devices('GPU'))"
   ]
  },
  {
   "cell_type": "code",
   "execution_count": 128,
   "id": "b48692f4-3368-41d8-ad15-e8dee4c97773",
   "metadata": {
    "tags": []
   },
   "outputs": [],
   "source": [
    "# import gdown\n",
    "\n",
    "# url = 'https://drive.google.com/uc?id=1YlvpDLix3S-U8fd-gqRwPcWXAXm8JwjL'\n",
    "# output = 'data.zip'\n",
    "# gdown.download(url, output, quiet=False)\n",
    "# gdown.extractall('data.zip')"
   ]
  },
  {
   "cell_type": "code",
   "execution_count": 129,
   "id": "8cfb8649-a0d9-47f2-ae84-1f5dc446d140",
   "metadata": {},
   "outputs": [],
   "source": [
    "def load_video(path:str) -> List[float]:\n",
    "    \n",
    "    cap = cv2.VideoCapture(path)\n",
    "    frames = []\n",
    "    \n",
    "    for _ in range(int(cap.get(cv2.CAP_PROP_FRAME_COUNT))):\n",
    "        ret, frame = cap.read()\n",
    "        frame = tf.image.rgb_to_grayscale(frame)\n",
    "        frames.append(frame[190:236,80:220,:])\n",
    "    cap.release()\n",
    "    \n",
    "    mean = tf.math.reduce_mean(frames)\n",
    "    std = tf.math.reduce_std(tf.cast(frames,tf.float32))\n",
    "    return tf.cast((frames - mean), tf.float32) / std"
   ]
  },
  {
   "cell_type": "code",
   "execution_count": 130,
   "id": "d9113a85-eb69-4279-be21-34cfd335d332",
   "metadata": {},
   "outputs": [],
   "source": [
    "vocab = [x for x in \"abcdefghijklmnopqrstuvwxyz'?!123456789 \"]"
   ]
  },
  {
   "cell_type": "code",
   "execution_count": 131,
   "id": "2a04af4e-8e4f-4a43-9529-633bd2eea9c7",
   "metadata": {},
   "outputs": [
    {
     "name": "stdout",
     "output_type": "stream",
     "text": [
      "The vocabulary is: ['', 'a', 'b', 'c', 'd', 'e', 'f', 'g', 'h', 'i', 'j', 'k', 'l', 'm', 'n', 'o', 'p', 'q', 'r', 's', 't', 'u', 'v', 'w', 'x', 'y', 'z', \"'\", '?', '!', '1', '2', '3', '4', '5', '6', '7', '8', '9', ' '](size = 40)\n"
     ]
    }
   ],
   "source": [
    "char_to_num = tf.keras.layers.StringLookup(vocabulary=vocab, oov_token=\"\")\n",
    "num_to_char = tf.keras.layers.StringLookup(\n",
    "    vocabulary = char_to_num.get_vocabulary(), oov_token = \"\", invert=True\n",
    ")\n",
    "\n",
    "print(\n",
    "    f\"The vocabulary is: {char_to_num.get_vocabulary()}\"\n",
    "    f\"(size = {char_to_num.vocabulary_size()})\"\n",
    "\n",
    ")"
   ]
  },
  {
   "cell_type": "code",
   "execution_count": 132,
   "id": "3596dfc9-f7b1-4fb4-9635-456cc2be8084",
   "metadata": {},
   "outputs": [
    {
     "data": {
      "text/plain": [
       "<tf.Tensor: shape=(5,), dtype=int64, numpy=array([17,  1, 13,  1, 18])>"
      ]
     },
     "execution_count": 132,
     "metadata": {},
     "output_type": "execute_result"
    }
   ],
   "source": [
    "char_to_num(['q','a', 'm', 'a', 'r'])"
   ]
  },
  {
   "cell_type": "code",
   "execution_count": 133,
   "id": "6a118f09-6083-458f-a945-a6ea0ca7d787",
   "metadata": {},
   "outputs": [
    {
     "data": {
      "text/plain": [
       "<tf.Tensor: shape=(5,), dtype=string, numpy=array([b'q', b'a', b'm', b'a', b'r'], dtype=object)>"
      ]
     },
     "execution_count": 133,
     "metadata": {},
     "output_type": "execute_result"
    }
   ],
   "source": [
    "num_to_char([17,  1, 13,  1, 18])"
   ]
  },
  {
   "cell_type": "code",
   "execution_count": 134,
   "id": "d9b79410-5907-4190-88db-3f7275fc0d77",
   "metadata": {},
   "outputs": [],
   "source": [
    "def load_alignments(path:str) -> List[str]:\n",
    "    \n",
    "    with open(path, 'r') as f:\n",
    "        lines = f.readlines()\n",
    "    tokens = []\n",
    "    for line in lines:\n",
    "        line = line.split()\n",
    "        if line[2] != 'sil':\n",
    "            tokens = [*tokens, ' ', line[2]]\n",
    "    return char_to_num(tf.reshape(tf.strings.unicode_split(tokens, input_encoding='UTF-8'), (-1)))[1:]"
   ]
  },
  {
   "cell_type": "code",
   "execution_count": 135,
   "id": "6ec72b69-99d8-44b9-a224-5718c52808d4",
   "metadata": {},
   "outputs": [],
   "source": [
    "def load_data(path: str):\n",
    "    path = bytes.decode(path.numpy())\n",
    "    file_name = path.split('/')[-1].split('.')[0]\n",
    "    video_path = os.path.join('data', 's1', f'{file_name}.mpg')\n",
    "    alignment_path = os.path.join('data', 'alignments', 's1', f'{file_name}.align')\n",
    "    frames = load_video(video_path)\n",
    "    alignments = load_alignments(alignment_path)\n",
    "    \n",
    "    return frames, alignments"
   ]
  },
  {
   "cell_type": "code",
   "execution_count": 136,
   "id": "265b5554-0d04-46e3-a952-84d6505ab997",
   "metadata": {},
   "outputs": [],
   "source": [
    "test_path = 'practice/LipReading/data/s1/bbal6n.mpg'"
   ]
  },
  {
   "cell_type": "code",
   "execution_count": 137,
   "id": "d7ebf701-50a3-41e1-b1e4-01071356f8fa",
   "metadata": {},
   "outputs": [
    {
     "data": {
      "text/plain": [
       "'bbal6n'"
      ]
     },
     "execution_count": 137,
     "metadata": {},
     "output_type": "execute_result"
    }
   ],
   "source": [
    "tf.convert_to_tensor(test_path).numpy().decode('utf-8').split('/')[-1].split('.')[0]"
   ]
  },
  {
   "cell_type": "code",
   "execution_count": 138,
   "id": "9377a425-5a81-4cf0-a6c3-3dcf20f5850b",
   "metadata": {},
   "outputs": [],
   "source": [
    "frames,alignments = load_data(tf.convert_to_tensor(test_path))"
   ]
  },
  {
   "cell_type": "code",
   "execution_count": 139,
   "id": "a42baa1e-5c84-46ca-8732-bc954335aac0",
   "metadata": {},
   "outputs": [
    {
     "data": {
      "text/plain": [
       "<matplotlib.image.AxesImage at 0x3ff67b310>"
      ]
     },
     "execution_count": 139,
     "metadata": {},
     "output_type": "execute_result"
    },
    {
     "data": {
      "image/png": "[encoded data removed]",
      "text/plain": [
       "<Figure size 640x480 with 1 Axes>"
      ]
     },
     "metadata": {},
     "output_type": "display_data"
    }
   ],
   "source": [
    "plt.imshow(frames[40])"
   ]
  },
  {
   "cell_type": "code",
   "execution_count": 140,
   "id": "4f0dc0d5-fc67-4fe1-b29e-4c0400c9e620",
   "metadata": {},
   "outputs": [
    {
     "data": {
      "text/plain": [
       "<tf.Tensor: shape=(21,), dtype=string, numpy=\n",
       "array([b'b', b'i', b'n', b' ', b'b', b'l', b'u', b'e', b' ', b'a', b't',\n",
       "       b' ', b'l', b' ', b's', b'i', b'x', b' ', b'n', b'o', b'w'],\n",
       "      dtype=object)>"
      ]
     },
     "execution_count": 140,
     "metadata": {},
     "output_type": "execute_result"
    }
   ],
   "source": [
    "num_to_char(alignments)"
   ]
  },
  {
   "cell_type": "code",
   "execution_count": 141,
   "id": "241ceba8-e47f-4796-98af-78969686522b",
   "metadata": {},
   "outputs": [],
   "source": [
    " def mappable_function(path:str) -> List[str]:\n",
    "        result = tf.py_function(load_data, [path], (tf.float32, tf.int64))\n",
    "        return result"
   ]
  },
  {
   "cell_type": "markdown",
   "id": "5f995df3-5aeb-4465-9659-2711c73dabf9",
   "metadata": {},
   "source": [
    "## Creating Data Pipeline"
   ]
  },
  {
   "cell_type": "code",
   "execution_count": 142,
   "id": "ce8895d6-0a2b-48bc-99d3-c80e8deabacc",
   "metadata": {},
   "outputs": [],
   "source": [
    "data = tf.data.Dataset.list_files('./data/s1/*mpg')\n",
    "data = data.shuffle(500, reshuffle_each_iteration=False)\n",
    "data = data.map(mappable_function)\n",
    "data = data.padded_batch(2, padded_shapes=([75,None,None,None], [40]))\n",
    "data = data.prefetch(tf.data.AUTOTUNE)\n",
    "\n",
    "train = data.take(450)\n",
    "test = data.skip(450)"
   ]
  },
  {
   "cell_type": "code",
   "execution_count": 173,
   "id": "16b0cd24-ed81-49e7-b64c-c37332e39c2d",
   "metadata": {},
   "outputs": [],
   "source": [
    "train = train.repeat()"
   ]
  },
  {
   "cell_type": "code",
   "execution_count": 143,
   "id": "1fc0d713-1f32-4d79-95b0-e6015466cb3f",
   "metadata": {
    "tags": []
   },
   "outputs": [],
   "source": [
    "frames, alignments = data.as_numpy_iterator().next()"
   ]
  },
  {
   "cell_type": "code",
   "execution_count": 144,
   "id": "aab56da6-3f85-49f5-8b01-5b8d18369953",
   "metadata": {},
   "outputs": [
    {
     "data": {
      "text/plain": [
       "array([[ 2,  9, 14, 39, 23,  8,  9, 20,  5, 39,  9, 14, 39, 20, 39, 15,\n",
       "        14,  5, 39,  1,  7,  1,  9, 14,  0,  0,  0,  0,  0,  0,  0,  0,\n",
       "         0,  0,  0,  0,  0,  0,  0,  0],\n",
       "       [ 2,  9, 14, 39,  2, 12, 21,  5, 39,  1, 20, 39, 12, 39,  5,  9,\n",
       "         7,  8, 20, 39, 16, 12,  5,  1, 19,  5,  0,  0,  0,  0,  0,  0,\n",
       "         0,  0,  0,  0,  0,  0,  0,  0]])"
      ]
     },
     "execution_count": 144,
     "metadata": {},
     "output_type": "execute_result"
    }
   ],
   "source": [
    "alignments"
   ]
  },
  {
   "cell_type": "code",
   "execution_count": 145,
   "id": "9d7fb82a-69e2-4515-a60b-44abd8d6a244",
   "metadata": {},
   "outputs": [],
   "source": [
    "test = data.as_numpy_iterator()"
   ]
  },
  {
   "cell_type": "code",
   "execution_count": 146,
   "id": "82567c58-cfaf-4473-82e9-30b7d9c3bd03",
   "metadata": {
    "tags": []
   },
   "outputs": [],
   "source": [
    "val = test.next()"
   ]
  },
  {
   "cell_type": "code",
   "execution_count": 147,
   "id": "bcc65d9f-9a3d-45af-a3e0-79a5ed77ba08",
   "metadata": {},
   "outputs": [],
   "source": [
    "frames = [np.squeeze(frame) for frame in val[0][0]]\n",
    "frames = [np.uint8(frame * 255) for frame in frames]\n"
   ]
  },
  {
   "cell_type": "code",
   "execution_count": 148,
   "id": "2fcd06b1-dccf-495b-bfd6-eb80579924be",
   "metadata": {},
   "outputs": [],
   "source": [
    "imageio.mimsave('./animation.gif', frames, fps=10)\n"
   ]
  },
  {
   "cell_type": "code",
   "execution_count": 149,
   "id": "6f1cbecd-b45e-4fa7-8c12-93d683be6ea6",
   "metadata": {},
   "outputs": [
    {
     "data": {
      "text/plain": [
       "<matplotlib.image.AxesImage at 0x3d6d77710>"
      ]
     },
     "execution_count": 149,
     "metadata": {},
     "output_type": "execute_result"
    },
    {
     "data": {
      "image/png": "[encoded data removed]",
      "text/plain": [
       "<Figure size 640x480 with 1 Axes>"
      ]
     },
     "metadata": {},
     "output_type": "display_data"
    }
   ],
   "source": [
    "# first zero: videos, second zero: 1st video of the batch, third zero: returning the first frame\n",
    "plt.imshow(val[0][0][0]) "
   ]
  },
  {
   "cell_type": "markdown",
   "id": "239403ee-7e5b-496b-a299-a064a98485ea",
   "metadata": {},
   "source": [
    "## DNN"
   ]
  },
  {
   "cell_type": "code",
   "execution_count": 150,
   "id": "da6a6a6c-3999-4078-aa66-02bb84b0c88f",
   "metadata": {},
   "outputs": [],
   "source": [
    "from tensorflow.keras.models import Sequential \n",
    "from tensorflow.keras.layers import Conv3D, LSTM, Dense, Dropout, Bidirectional, MaxPool3D, Activation, Reshape, SpatialDropout3D, BatchNormalization, TimeDistributed, Flatten\n",
    "from tensorflow.keras.optimizers import Adam\n",
    "from tensorflow.keras.callbacks import ModelCheckpoint, LearningRateScheduler"
   ]
  },
  {
   "cell_type": "code",
   "execution_count": 151,
   "id": "e396f3d6-e836-4405-a030-5b2b47620c26",
   "metadata": {},
   "outputs": [
    {
     "data": {
      "text/plain": [
       "(75, 46, 140, 1)"
      ]
     },
     "execution_count": 151,
     "metadata": {},
     "output_type": "execute_result"
    }
   ],
   "source": [
    "data.as_numpy_iterator().next()[0][0].shape"
   ]
  },
  {
   "cell_type": "code",
   "execution_count": 152,
   "id": "a975fe9c-a125-4936-bd35-549b937f72e4",
   "metadata": {},
   "outputs": [],
   "source": [
    "model = Sequential()\n",
    "model.add(Conv3D(128, 3, input_shape=(75,46,140,1), padding='same'))\n",
    "model.add(Activation('relu'))\n",
    "model.add(MaxPool3D((1,2,2)))\n",
    "\n",
    "model.add(Conv3D(256, 3, padding='same'))\n",
    "model.add(Activation('relu'))\n",
    "model.add(MaxPool3D((1,2,2)))\n",
    "\n",
    "model.add(Conv3D(75, 3, padding='same'))\n",
    "model.add(Activation('relu'))\n",
    "model.add(MaxPool3D((1,2,2)))\n",
    "\n",
    "model.add(TimeDistributed(Flatten()))\n",
    "\n",
    "model.add(Bidirectional(LSTM(128, kernel_initializer='Orthogonal', return_sequences=True)))\n",
    "model.add(Dropout(.5))\n",
    "\n",
    "model.add(Bidirectional(LSTM(128, kernel_initializer='Orthogonal', return_sequences=True)))\n",
    "model.add(Dropout(.5))\n",
    "\n",
    "model.add(Dense(char_to_num.vocabulary_size()+1, kernel_initializer='he_normal', activation='softmax'))"
   ]
  },
  {
   "cell_type": "code",
   "execution_count": 153,
   "id": "10046f89-5195-4389-a9da-50cc32723f1d",
   "metadata": {},
   "outputs": [
    {
     "data": {
      "text/html": [
       "<pre style=\"white-space:pre;overflow-x:auto;line-height:normal;font-family:Menlo,'DejaVu Sans Mono',consolas,'Courier New',monospace\"><span style=\"font-weight: bold\">Model: \"sequential_3\"</span>\n",
       "</pre>\n"
      ],
      "text/plain": [
       "\u001b[1mModel: \"sequential_3\"\u001b[0m\n"
      ]
     },
     "metadata": {},
     "output_type": "display_data"
    },
    {
     "data": {
      "text/html": [
       "<pre style=\"white-space:pre;overflow-x:auto;line-height:normal;font-family:Menlo,'DejaVu Sans Mono',consolas,'Courier New',monospace\">┏━━━━━━━━━━━━━━━━━━━━━━━━━━━━━━━━━┳━━━━━━━━━━━━━━━━━━━━━━━━┳━━━━━━━━━━━━━━━┓\n",
       "┃<span style=\"font-weight: bold\"> Layer (type)                    </span>┃<span style=\"font-weight: bold\"> Output Shape           </span>┃<span style=\"font-weight: bold\">       Param # </span>┃\n",
       "┡━━━━━━━━━━━━━━━━━━━━━━━━━━━━━━━━━╇━━━━━━━━━━━━━━━━━━━━━━━━╇━━━━━━━━━━━━━━━┩\n",
       "│ conv3d_9 (<span style=\"color: #0087ff; text-decoration-color: #0087ff\">Conv3D</span>)               │ (<span style=\"color: #00d7ff; text-decoration-color: #00d7ff\">None</span>, <span style=\"color: #00af00; text-decoration-color: #00af00\">75</span>, <span style=\"color: #00af00; text-decoration-color: #00af00\">46</span>, <span style=\"color: #00af00; text-decoration-color: #00af00\">140</span>,    │         <span style=\"color: #00af00; text-decoration-color: #00af00\">3,584</span> │\n",
       "│                                 │ <span style=\"color: #00af00; text-decoration-color: #00af00\">128</span>)                   │               │\n",
       "├─────────────────────────────────┼────────────────────────┼───────────────┤\n",
       "│ activation_9 (<span style=\"color: #0087ff; text-decoration-color: #0087ff\">Activation</span>)       │ (<span style=\"color: #00d7ff; text-decoration-color: #00d7ff\">None</span>, <span style=\"color: #00af00; text-decoration-color: #00af00\">75</span>, <span style=\"color: #00af00; text-decoration-color: #00af00\">46</span>, <span style=\"color: #00af00; text-decoration-color: #00af00\">140</span>,    │             <span style=\"color: #00af00; text-decoration-color: #00af00\">0</span> │\n",
       "│                                 │ <span style=\"color: #00af00; text-decoration-color: #00af00\">128</span>)                   │               │\n",
       "├─────────────────────────────────┼────────────────────────┼───────────────┤\n",
       "│ max_pooling3d_9 (<span style=\"color: #0087ff; text-decoration-color: #0087ff\">MaxPooling3D</span>)  │ (<span style=\"color: #00d7ff; text-decoration-color: #00d7ff\">None</span>, <span style=\"color: #00af00; text-decoration-color: #00af00\">75</span>, <span style=\"color: #00af00; text-decoration-color: #00af00\">23</span>, <span style=\"color: #00af00; text-decoration-color: #00af00\">70</span>,     │             <span style=\"color: #00af00; text-decoration-color: #00af00\">0</span> │\n",
       "│                                 │ <span style=\"color: #00af00; text-decoration-color: #00af00\">128</span>)                   │               │\n",
       "├─────────────────────────────────┼────────────────────────┼───────────────┤\n",
       "│ conv3d_10 (<span style=\"color: #0087ff; text-decoration-color: #0087ff\">Conv3D</span>)              │ (<span style=\"color: #00d7ff; text-decoration-color: #00d7ff\">None</span>, <span style=\"color: #00af00; text-decoration-color: #00af00\">75</span>, <span style=\"color: #00af00; text-decoration-color: #00af00\">23</span>, <span style=\"color: #00af00; text-decoration-color: #00af00\">70</span>,     │       <span style=\"color: #00af00; text-decoration-color: #00af00\">884,992</span> │\n",
       "│                                 │ <span style=\"color: #00af00; text-decoration-color: #00af00\">256</span>)                   │               │\n",
       "├─────────────────────────────────┼────────────────────────┼───────────────┤\n",
       "│ activation_10 (<span style=\"color: #0087ff; text-decoration-color: #0087ff\">Activation</span>)      │ (<span style=\"color: #00d7ff; text-decoration-color: #00d7ff\">None</span>, <span style=\"color: #00af00; text-decoration-color: #00af00\">75</span>, <span style=\"color: #00af00; text-decoration-color: #00af00\">23</span>, <span style=\"color: #00af00; text-decoration-color: #00af00\">70</span>,     │             <span style=\"color: #00af00; text-decoration-color: #00af00\">0</span> │\n",
       "│                                 │ <span style=\"color: #00af00; text-decoration-color: #00af00\">256</span>)                   │               │\n",
       "├─────────────────────────────────┼────────────────────────┼───────────────┤\n",
       "│ max_pooling3d_10 (<span style=\"color: #0087ff; text-decoration-color: #0087ff\">MaxPooling3D</span>) │ (<span style=\"color: #00d7ff; text-decoration-color: #00d7ff\">None</span>, <span style=\"color: #00af00; text-decoration-color: #00af00\">75</span>, <span style=\"color: #00af00; text-decoration-color: #00af00\">11</span>, <span style=\"color: #00af00; text-decoration-color: #00af00\">35</span>,     │             <span style=\"color: #00af00; text-decoration-color: #00af00\">0</span> │\n",
       "│                                 │ <span style=\"color: #00af00; text-decoration-color: #00af00\">256</span>)                   │               │\n",
       "├─────────────────────────────────┼────────────────────────┼───────────────┤\n",
       "│ conv3d_11 (<span style=\"color: #0087ff; text-decoration-color: #0087ff\">Conv3D</span>)              │ (<span style=\"color: #00d7ff; text-decoration-color: #00d7ff\">None</span>, <span style=\"color: #00af00; text-decoration-color: #00af00\">75</span>, <span style=\"color: #00af00; text-decoration-color: #00af00\">11</span>, <span style=\"color: #00af00; text-decoration-color: #00af00\">35</span>, <span style=\"color: #00af00; text-decoration-color: #00af00\">75</span>) │       <span style=\"color: #00af00; text-decoration-color: #00af00\">518,475</span> │\n",
       "├─────────────────────────────────┼────────────────────────┼───────────────┤\n",
       "│ activation_11 (<span style=\"color: #0087ff; text-decoration-color: #0087ff\">Activation</span>)      │ (<span style=\"color: #00d7ff; text-decoration-color: #00d7ff\">None</span>, <span style=\"color: #00af00; text-decoration-color: #00af00\">75</span>, <span style=\"color: #00af00; text-decoration-color: #00af00\">11</span>, <span style=\"color: #00af00; text-decoration-color: #00af00\">35</span>, <span style=\"color: #00af00; text-decoration-color: #00af00\">75</span>) │             <span style=\"color: #00af00; text-decoration-color: #00af00\">0</span> │\n",
       "├─────────────────────────────────┼────────────────────────┼───────────────┤\n",
       "│ max_pooling3d_11 (<span style=\"color: #0087ff; text-decoration-color: #0087ff\">MaxPooling3D</span>) │ (<span style=\"color: #00d7ff; text-decoration-color: #00d7ff\">None</span>, <span style=\"color: #00af00; text-decoration-color: #00af00\">75</span>, <span style=\"color: #00af00; text-decoration-color: #00af00\">5</span>, <span style=\"color: #00af00; text-decoration-color: #00af00\">17</span>, <span style=\"color: #00af00; text-decoration-color: #00af00\">75</span>)  │             <span style=\"color: #00af00; text-decoration-color: #00af00\">0</span> │\n",
       "├─────────────────────────────────┼────────────────────────┼───────────────┤\n",
       "│ time_distributed_3              │ (<span style=\"color: #00d7ff; text-decoration-color: #00d7ff\">None</span>, <span style=\"color: #00af00; text-decoration-color: #00af00\">75</span>, <span style=\"color: #00af00; text-decoration-color: #00af00\">6375</span>)       │             <span style=\"color: #00af00; text-decoration-color: #00af00\">0</span> │\n",
       "│ (<span style=\"color: #0087ff; text-decoration-color: #0087ff\">TimeDistributed</span>)               │                        │               │\n",
       "├─────────────────────────────────┼────────────────────────┼───────────────┤\n",
       "│ bidirectional_6 (<span style=\"color: #0087ff; text-decoration-color: #0087ff\">Bidirectional</span>) │ (<span style=\"color: #00d7ff; text-decoration-color: #00d7ff\">None</span>, <span style=\"color: #00af00; text-decoration-color: #00af00\">75</span>, <span style=\"color: #00af00; text-decoration-color: #00af00\">256</span>)        │     <span style=\"color: #00af00; text-decoration-color: #00af00\">6,660,096</span> │\n",
       "├─────────────────────────────────┼────────────────────────┼───────────────┤\n",
       "│ dropout_6 (<span style=\"color: #0087ff; text-decoration-color: #0087ff\">Dropout</span>)             │ (<span style=\"color: #00d7ff; text-decoration-color: #00d7ff\">None</span>, <span style=\"color: #00af00; text-decoration-color: #00af00\">75</span>, <span style=\"color: #00af00; text-decoration-color: #00af00\">256</span>)        │             <span style=\"color: #00af00; text-decoration-color: #00af00\">0</span> │\n",
       "├─────────────────────────────────┼────────────────────────┼───────────────┤\n",
       "│ bidirectional_7 (<span style=\"color: #0087ff; text-decoration-color: #0087ff\">Bidirectional</span>) │ (<span style=\"color: #00d7ff; text-decoration-color: #00d7ff\">None</span>, <span style=\"color: #00af00; text-decoration-color: #00af00\">75</span>, <span style=\"color: #00af00; text-decoration-color: #00af00\">256</span>)        │       <span style=\"color: #00af00; text-decoration-color: #00af00\">394,240</span> │\n",
       "├─────────────────────────────────┼────────────────────────┼───────────────┤\n",
       "│ dropout_7 (<span style=\"color: #0087ff; text-decoration-color: #0087ff\">Dropout</span>)             │ (<span style=\"color: #00d7ff; text-decoration-color: #00d7ff\">None</span>, <span style=\"color: #00af00; text-decoration-color: #00af00\">75</span>, <span style=\"color: #00af00; text-decoration-color: #00af00\">256</span>)        │             <span style=\"color: #00af00; text-decoration-color: #00af00\">0</span> │\n",
       "├─────────────────────────────────┼────────────────────────┼───────────────┤\n",
       "│ dense_3 (<span style=\"color: #0087ff; text-decoration-color: #0087ff\">Dense</span>)                 │ (<span style=\"color: #00d7ff; text-decoration-color: #00d7ff\">None</span>, <span style=\"color: #00af00; text-decoration-color: #00af00\">75</span>, <span style=\"color: #00af00; text-decoration-color: #00af00\">41</span>)         │        <span style=\"color: #00af00; text-decoration-color: #00af00\">10,537</span> │\n",
       "└─────────────────────────────────┴────────────────────────┴───────────────┘\n",
       "</pre>\n"
      ],
      "text/plain": [
       "┏━━━━━━━━━━━━━━━━━━━━━━━━━━━━━━━━━┳━━━━━━━━━━━━━━━━━━━━━━━━┳━━━━━━━━━━━━━━━┓\n",
       "┃\u001b[1m \u001b[0m\u001b[1mLayer (type)                   \u001b[0m\u001b[1m \u001b[0m┃\u001b[1m \u001b[0m\u001b[1mOutput Shape          \u001b[0m\u001b[1m \u001b[0m┃\u001b[1m \u001b[0m\u001b[1m      Param #\u001b[0m\u001b[1m \u001b[0m┃\n",
       "┡━━━━━━━━━━━━━━━━━━━━━━━━━━━━━━━━━╇━━━━━━━━━━━━━━━━━━━━━━━━╇━━━━━━━━━━━━━━━┩\n",
       "│ conv3d_9 (\u001b[38;5;33mConv3D\u001b[0m)               │ (\u001b[38;5;45mNone\u001b[0m, \u001b[38;5;34m75\u001b[0m, \u001b[38;5;34m46\u001b[0m, \u001b[38;5;34m140\u001b[0m,    │         \u001b[38;5;34m3,584\u001b[0m │\n",
       "│                                 │ \u001b[38;5;34m128\u001b[0m)                   │               │\n",
       "├─────────────────────────────────┼────────────────────────┼───────────────┤\n",
       "│ activation_9 (\u001b[38;5;33mActivation\u001b[0m)       │ (\u001b[38;5;45mNone\u001b[0m, \u001b[38;5;34m75\u001b[0m, \u001b[38;5;34m46\u001b[0m, \u001b[38;5;34m140\u001b[0m,    │             \u001b[38;5;34m0\u001b[0m │\n",
       "│                                 │ \u001b[38;5;34m128\u001b[0m)                   │               │\n",
       "├─────────────────────────────────┼────────────────────────┼───────────────┤\n",
       "│ max_pooling3d_9 (\u001b[38;5;33mMaxPooling3D\u001b[0m)  │ (\u001b[38;5;45mNone\u001b[0m, \u001b[38;5;34m75\u001b[0m, \u001b[38;5;34m23\u001b[0m, \u001b[38;5;34m70\u001b[0m,     │             \u001b[38;5;34m0\u001b[0m │\n",
       "│                                 │ \u001b[38;5;34m128\u001b[0m)                   │               │\n",
       "├─────────────────────────────────┼────────────────────────┼───────────────┤\n",
       "│ conv3d_10 (\u001b[38;5;33mConv3D\u001b[0m)              │ (\u001b[38;5;45mNone\u001b[0m, \u001b[38;5;34m75\u001b[0m, \u001b[38;5;34m23\u001b[0m, \u001b[38;5;34m70\u001b[0m,     │       \u001b[38;5;34m884,992\u001b[0m │\n",
       "│                                 │ \u001b[38;5;34m256\u001b[0m)                   │               │\n",
       "├─────────────────────────────────┼────────────────────────┼───────────────┤\n",
       "│ activation_10 (\u001b[38;5;33mActivation\u001b[0m)      │ (\u001b[38;5;45mNone\u001b[0m, \u001b[38;5;34m75\u001b[0m, \u001b[38;5;34m23\u001b[0m, \u001b[38;5;34m70\u001b[0m,     │             \u001b[38;5;34m0\u001b[0m │\n",
       "│                                 │ \u001b[38;5;34m256\u001b[0m)                   │               │\n",
       "├─────────────────────────────────┼────────────────────────┼───────────────┤\n",
       "│ max_pooling3d_10 (\u001b[38;5;33mMaxPooling3D\u001b[0m) │ (\u001b[38;5;45mNone\u001b[0m, \u001b[38;5;34m75\u001b[0m, \u001b[38;5;34m11\u001b[0m, \u001b[38;5;34m35\u001b[0m,     │             \u001b[38;5;34m0\u001b[0m │\n",
       "│                                 │ \u001b[38;5;34m256\u001b[0m)                   │               │\n",
       "├─────────────────────────────────┼────────────────────────┼───────────────┤\n",
       "│ conv3d_11 (\u001b[38;5;33mConv3D\u001b[0m)              │ (\u001b[38;5;45mNone\u001b[0m, \u001b[38;5;34m75\u001b[0m, \u001b[38;5;34m11\u001b[0m, \u001b[38;5;34m35\u001b[0m, \u001b[38;5;34m75\u001b[0m) │       \u001b[38;5;34m518,475\u001b[0m │\n",
       "├─────────────────────────────────┼────────────────────────┼───────────────┤\n",
       "│ activation_11 (\u001b[38;5;33mActivation\u001b[0m)      │ (\u001b[38;5;45mNone\u001b[0m, \u001b[38;5;34m75\u001b[0m, \u001b[38;5;34m11\u001b[0m, \u001b[38;5;34m35\u001b[0m, \u001b[38;5;34m75\u001b[0m) │             \u001b[38;5;34m0\u001b[0m │\n",
       "├─────────────────────────────────┼────────────────────────┼───────────────┤\n",
       "│ max_pooling3d_11 (\u001b[38;5;33mMaxPooling3D\u001b[0m) │ (\u001b[38;5;45mNone\u001b[0m, \u001b[38;5;34m75\u001b[0m, \u001b[38;5;34m5\u001b[0m, \u001b[38;5;34m17\u001b[0m, \u001b[38;5;34m75\u001b[0m)  │             \u001b[38;5;34m0\u001b[0m │\n",
       "├─────────────────────────────────┼────────────────────────┼───────────────┤\n",
       "│ time_distributed_3              │ (\u001b[38;5;45mNone\u001b[0m, \u001b[38;5;34m75\u001b[0m, \u001b[38;5;34m6375\u001b[0m)       │             \u001b[38;5;34m0\u001b[0m │\n",
       "│ (\u001b[38;5;33mTimeDistributed\u001b[0m)               │                        │               │\n",
       "├─────────────────────────────────┼────────────────────────┼───────────────┤\n",
       "│ bidirectional_6 (\u001b[38;5;33mBidirectional\u001b[0m) │ (\u001b[38;5;45mNone\u001b[0m, \u001b[38;5;34m75\u001b[0m, \u001b[38;5;34m256\u001b[0m)        │     \u001b[38;5;34m6,660,096\u001b[0m │\n",
       "├─────────────────────────────────┼────────────────────────┼───────────────┤\n",
       "│ dropout_6 (\u001b[38;5;33mDropout\u001b[0m)             │ (\u001b[38;5;45mNone\u001b[0m, \u001b[38;5;34m75\u001b[0m, \u001b[38;5;34m256\u001b[0m)        │             \u001b[38;5;34m0\u001b[0m │\n",
       "├─────────────────────────────────┼────────────────────────┼───────────────┤\n",
       "│ bidirectional_7 (\u001b[38;5;33mBidirectional\u001b[0m) │ (\u001b[38;5;45mNone\u001b[0m, \u001b[38;5;34m75\u001b[0m, \u001b[38;5;34m256\u001b[0m)        │       \u001b[38;5;34m394,240\u001b[0m │\n",
       "├─────────────────────────────────┼────────────────────────┼───────────────┤\n",
       "│ dropout_7 (\u001b[38;5;33mDropout\u001b[0m)             │ (\u001b[38;5;45mNone\u001b[0m, \u001b[38;5;34m75\u001b[0m, \u001b[38;5;34m256\u001b[0m)        │             \u001b[38;5;34m0\u001b[0m │\n",
       "├─────────────────────────────────┼────────────────────────┼───────────────┤\n",
       "│ dense_3 (\u001b[38;5;33mDense\u001b[0m)                 │ (\u001b[38;5;45mNone\u001b[0m, \u001b[38;5;34m75\u001b[0m, \u001b[38;5;34m41\u001b[0m)         │        \u001b[38;5;34m10,537\u001b[0m │\n",
       "└─────────────────────────────────┴────────────────────────┴───────────────┘\n"
      ]
     },
     "metadata": {},
     "output_type": "display_data"
    },
    {
     "data": {
      "text/html": [
       "<pre style=\"white-space:pre;overflow-x:auto;line-height:normal;font-family:Menlo,'DejaVu Sans Mono',consolas,'Courier New',monospace\"><span style=\"font-weight: bold\"> Total params: </span><span style=\"color: #00af00; text-decoration-color: #00af00\">8,471,924</span> (32.32 MB)\n",
       "</pre>\n"
      ],
      "text/plain": [
       "\u001b[1m Total params: \u001b[0m\u001b[38;5;34m8,471,924\u001b[0m (32.32 MB)\n"
      ]
     },
     "metadata": {},
     "output_type": "display_data"
    },
    {
     "data": {
      "text/html": [
       "<pre style=\"white-space:pre;overflow-x:auto;line-height:normal;font-family:Menlo,'DejaVu Sans Mono',consolas,'Courier New',monospace\"><span style=\"font-weight: bold\"> Trainable params: </span><span style=\"color: #00af00; text-decoration-color: #00af00\">8,471,924</span> (32.32 MB)\n",
       "</pre>\n"
      ],
      "text/plain": [
       "\u001b[1m Trainable params: \u001b[0m\u001b[38;5;34m8,471,924\u001b[0m (32.32 MB)\n"
      ]
     },
     "metadata": {},
     "output_type": "display_data"
    },
    {
     "data": {
      "text/html": [
       "<pre style=\"white-space:pre;overflow-x:auto;line-height:normal;font-family:Menlo,'DejaVu Sans Mono',consolas,'Courier New',monospace\"><span style=\"font-weight: bold\"> Non-trainable params: </span><span style=\"color: #00af00; text-decoration-color: #00af00\">0</span> (0.00 B)\n",
       "</pre>\n"
      ],
      "text/plain": [
       "\u001b[1m Non-trainable params: \u001b[0m\u001b[38;5;34m0\u001b[0m (0.00 B)\n"
      ]
     },
     "metadata": {},
     "output_type": "display_data"
    }
   ],
   "source": [
    "model.summary()"
   ]
  },
  {
   "cell_type": "code",
   "execution_count": 154,
   "id": "8188fa62-edbc-4673-a8a1-d7556546fa51",
   "metadata": {},
   "outputs": [
    {
     "name": "stdout",
     "output_type": "stream",
     "text": [
      "\u001b[1m1/1\u001b[0m \u001b[32m━━━━━━━━━━━━━━━━━━━━\u001b[0m\u001b[37m\u001b[0m \u001b[1m11s\u001b[0m 11s/step\n"
     ]
    }
   ],
   "source": [
    "yhat = model.predict(val[0])"
   ]
  },
  {
   "cell_type": "code",
   "execution_count": 155,
   "id": "05d8d7f8-9d62-434d-83b9-75ff51b7fbd8",
   "metadata": {},
   "outputs": [
    {
     "data": {
      "text/plain": [
       "<tf.Tensor: shape=(), dtype=string, numpy=b'999nnnnnn999999999999999999999999999999999999999'>"
      ]
     },
     "execution_count": 155,
     "metadata": {},
     "output_type": "execute_result"
    }
   ],
   "source": [
    "tf.strings.reduce_join([num_to_char(x) for x in tf.argmax(yhat[0],axis=1)])"
   ]
  },
  {
   "cell_type": "code",
   "execution_count": 156,
   "id": "32626c87-a795-4dbc-9e1f-9d8546372749",
   "metadata": {},
   "outputs": [
    {
     "data": {
      "text/plain": [
       "<tf.Tensor: shape=(), dtype=string, numpy=b'999nnnnnn999999999999999999999999999999999999999'>"
      ]
     },
     "execution_count": 156,
     "metadata": {},
     "output_type": "execute_result"
    }
   ],
   "source": [
    "tf.strings.reduce_join([num_to_char(tf.argmax(x)) for x in yhat[0]])"
   ]
  },
  {
   "cell_type": "code",
   "execution_count": 157,
   "id": "98ff708e-d283-46e2-92c6-7bb21d0ff0b7",
   "metadata": {},
   "outputs": [
    {
     "data": {
      "text/plain": [
       "(None, 75, 41)"
      ]
     },
     "execution_count": 157,
     "metadata": {},
     "output_type": "execute_result"
    }
   ],
   "source": [
    "model.output_shape"
   ]
  },
  {
   "cell_type": "markdown",
   "id": "ebc8f4af-e3e3-4fdb-ae9a-3e2572524beb",
   "metadata": {},
   "source": [
    "## Training Setup"
   ]
  },
  {
   "cell_type": "code",
   "execution_count": 158,
   "id": "fc653316-697d-458b-a058-e549a3cff23f",
   "metadata": {},
   "outputs": [],
   "source": [
    "def scheduler(epoch, lr):\n",
    "    if epoch < 30:\n",
    "        return lr\n",
    "    else:\n",
    "        return lr * tf.math.exp(-0.1)"
   ]
  },
  {
   "cell_type": "code",
   "execution_count": 159,
   "id": "b2865a2f-1355-4df9-87ed-57a9f0bc280e",
   "metadata": {},
   "outputs": [],
   "source": [
    "def CTCLoss(y_true, y_pred):\n",
    "    batch_len = tf.cast(tf.shape(y_true)[0], dtype=\"int64\")\n",
    "    input_length = tf.cast(tf.shape(y_pred)[1], dtype=\"int64\")\n",
    "    label_length = tf.cast(tf.shape(y_true)[1], dtype=\"int64\")\n",
    "\n",
    "    input_length = input_length * tf.ones(shape=(batch_len, 1), dtype=\"int64\")\n",
    "    label_length = label_length * tf.ones(shape=(batch_len, 1), dtype=\"int64\")\n",
    "\n",
    "    loss = tf.keras.backend.ctc_batch_cost(y_true, y_pred, input_length, label_length)\n",
    "    return loss"
   ]
  },
  {
   "cell_type": "code",
   "execution_count": 165,
   "id": "0b8aa9f1-bcce-4785-8096-e07447c1c117",
   "metadata": {},
   "outputs": [],
   "source": [
    "class ProduceExample(tf.keras.callbacks.Callback):\n",
    "    def __init__(self, dataset_iterator) -> None:\n",
    "        self.dataset_iterator = dataset_iterator\n",
    "\n",
    "    def on_epoch_end(self, epoch, logs=None) -> None:\n",
    "        try:\n",
    "            data = next(self.dataset_iterator)\n",
    "            yhat = self.model.predict(data[0])\n",
    "            decoded = tf.keras.backend.ctc_decode(yhat, [75, 75], greedy=False)[0][0].numpy()\n",
    "            for x in range(len(yhat)):\n",
    "                print('Original:', tf.strings.reduce_join(num_to_char(data[1][x])).numpy().decode('utf-8'))\n",
    "                print('Prediction:', tf.strings.reduce_join(num_to_char(decoded[x])).numpy().decode('utf-8'))\n",
    "                print('~' * 100)\n",
    "        except StopIteration:\n",
    "            print(\"No more data in the dataset.\")"
   ]
  },
  {
   "cell_type": "code",
   "execution_count": 166,
   "id": "0a71e6cb-a55f-4dcd-958e-29a1054d4315",
   "metadata": {},
   "outputs": [],
   "source": [
    "model.compile(optimizer=Adam(learning_rate=0.0001), loss=CTCLoss)"
   ]
  },
  {
   "cell_type": "code",
   "execution_count": 167,
   "id": "a7130fda-45de-402a-bfdd-b32875c93372",
   "metadata": {},
   "outputs": [],
   "source": [
    "checkpoint_callback = ModelCheckpoint(os.path.join('models','checkpoint.weights.h5'), monitor='loss', save_weights_only=True) "
   ]
  },
  {
   "cell_type": "code",
   "execution_count": 168,
   "id": "5f5b6eff-6377-4943-beb2-6c0bca8b724d",
   "metadata": {},
   "outputs": [],
   "source": [
    "schedule_callback = LearningRateScheduler(scheduler)"
   ]
  },
  {
   "cell_type": "code",
   "execution_count": 169,
   "id": "fcb9f3ee-5a4b-48d6-872c-5cf7561a5fe2",
   "metadata": {},
   "outputs": [],
   "source": [
    "example_callback = ProduceExample(test)"
   ]
  },
  {
   "cell_type": "code",
   "execution_count": null,
   "id": "66f0a08b-aeb9-4f11-80a4-c584a1492979",
   "metadata": {
    "tags": []
   },
   "outputs": [
    {
     "name": "stderr",
     "output_type": "stream",
     "text": [
      "[mpeg1video @ 0x36daa0d60] ac-tex damaged at 22 17\n",
      "[mpeg1video @ 0x36daa0d60] Warning MVs not available\n",
      "[mpeg1video @ 0x36b176e80] ac-tex damaged at 22 17\n",
      "[mpeg1video @ 0x36b176e80] Warning MVs not available\n",
      "[mpeg1video @ 0x4891374c0] ac-tex damaged at 22 17\n",
      "[mpeg1video @ 0x4891374c0] Warning MVs not available\n",
      "[mpeg1video @ 0x41c6876c0] ac-tex damaged at 22 17\n",
      "[mpeg1video @ 0x41c6876c0] Warning MVs not available\n",
      "[mpeg1video @ 0x41c6a5b00] ac-tex damaged at 22 17\n",
      "[mpeg1video @ 0x41c6a5b00] Warning MVs not available\n",
      "[mpeg1video @ 0x4891fd700] ac-tex damaged at 22 17\n",
      "[mpeg1video @ 0x4891fd700] Warning MVs not available\n",
      "[mpeg1video @ 0x62d14ce10] ac-tex damaged at 22 17\n",
      "[mpeg1video @ 0x62d14ce10] Warning MVs not available\n",
      "[mpeg1video @ 0x62d1dd2c0] ac-tex damaged at 22 17\n",
      "[mpeg1video @ 0x62d1dd2c0] Warning MVs not available\n",
      "[mpeg1video @ 0x7ae55dc10] ac-tex damaged at 22 17\n",
      "[mpeg1video @ 0x7ae55dc10] Warning MVs not available\n",
      " 16%|████████████▉                                                                     | 66.6M/423M [2:31:14<13:30:36, 7.34kB/s]\n",
      "[mpeg1video @ 0x7ae59abf0] ac-tex damaged at 22 17\n",
      "[mpeg1video @ 0x7ae59abf0] Warning MVs not available\n",
      "[mpeg1video @ 0x3f0355070] ac-tex damaged at 22 17\n",
      "[mpeg1video @ 0x3f0355070] Warning MVs not available\n",
      "[mpeg1video @ 0x3f0387690] ac-tex damaged at 22 17\n",
      "[mpeg1video @ 0x3f0387690] Warning MVs not available\n"
     ]
    }
   ],
   "source": [
    "model.fit(train, \n",
    "          validation_data=test, \n",
    "          steps_per_epoch=len(list(train)), \n",
    "          epochs=100, \n",
    "          callbacks=[checkpoint_callback, schedule_callback, example_callback])"
   ]
  },
  {
   "cell_type": "code",
   "execution_count": null,
   "id": "ccaa99b9-0fdc-49c5-9a0b-e375de7a98ff",
   "metadata": {},
   "outputs": [
    {
     "ename": "SyntaxError",
     "evalue": "invalid syntax (1117209396.py, line 1)",
     "output_type": "error",
     "traceback": [
      "\u001b[0;36m  Cell \u001b[0;32mIn[1], line 1\u001b[0;36m\u001b[0m\n\u001b[0;31m    ffmpeg -i corrupted_video.mpg -c:v copy -c:a copy repaired_video.mpg\u001b[0m\n\u001b[0m              ^\u001b[0m\n\u001b[0;31mSyntaxError\u001b[0m\u001b[0;31m:\u001b[0m invalid syntax\n"
     ]
    }
   ],
   "source": [
    "ffmpeg -i corrupted_video.mpg -c:v copy -c:a copy repaired_video.mpg"
   ]
  },
  {
   "cell_type": "code",
   "execution_count": null,
   "id": "abe8662c-de2c-4b56-8572-7b934dd4d1c0",
   "metadata": {},
   "outputs": [],
   "source": [
    "import os\n",
    "import cv2\n",
    "import tensorflow as tf\n",
    "import numpy as np\n",
    "from typing import List\n",
    "from matplotlib import pyplot as plt\n",
    "import imageio\n",
    "\n",
    "# Enable memory growth for GPU\n",
    "physical_devices = tf.config.list_physical_devices('GPU')\n",
    "if physical_devices:\n",
    "    try:\n",
    "        tf.config.experimental.set_memory_growth(physical_devices[0], True)\n",
    "        print(\"Memory growth enabled for\", physical_devices[0])\n",
    "    except Exception as e:\n",
    "        print(e)\n",
    "\n",
    "# Load video frames and normalize\n",
    "def load_video(path: str) -> List[float]:\n",
    "    cap = cv2.VideoCapture(path)\n",
    "    frames = []\n",
    "    for _ in range(int(cap.get(cv2.CAP_PROP_FRAME_COUNT))):\n",
    "        ret, frame = cap.read()\n",
    "        frame = tf.image.rgb_to_grayscale(frame)\n",
    "        frames.append(frame[190:236, 80:220, :])\n",
    "    cap.release()\n",
    "    \n",
    "    mean = tf.math.reduce_mean(frames)\n",
    "    std = tf.math.reduce_std(tf.cast(frames, tf.float32))\n",
    "    return tf.cast((frames - mean), tf.float32) / std\n",
    "\n",
    "# Define vocabulary\n",
    "vocab = [x for x in \"abcdefghijklmnopqrstuvwxyz'?!123456789 \"]\n",
    "char_to_num = tf.keras.layers.StringLookup(vocabulary=vocab, oov_token=\"\")\n",
    "num_to_char = tf.keras.layers.StringLookup(\n",
    "    vocabulary=char_to_num.get_vocabulary(), oov_token=\"\", invert=True\n",
    ")\n",
    "\n",
    "print(\n",
    "    f\"The vocabulary is: {char_to_num.get_vocabulary()}\"\n",
    "    f\"(size = {char_to_num.vocabulary_size()})\"\n",
    ")\n",
    "\n",
    "# Load alignment data\n",
    "def load_alignments(path: str) -> List[str]:\n",
    "    with open(path, 'r') as f:\n",
    "        lines = f.readlines()\n",
    "    tokens = []\n",
    "    for line in lines:\n",
    "        line = line.split()\n",
    "        if line[2] != 'sil':\n",
    "            tokens = [*tokens, ' ', line[2]]\n",
    "    return char_to_num(tf.reshape(tf.strings.unicode_split(tokens, input_encoding='UTF-8'), (-1)))[1:]\n",
    "\n",
    "# Load data\n",
    "def load_data(path: str):\n",
    "    path = bytes.decode(path.numpy())\n",
    "    file_name = path.split('/')[-1].split('.')[0]\n",
    "    video_path = os.path.join('data', 's1', f'{file_name}.mpg')\n",
    "    alignment_path = os.path.join('data', 'alignments', 's1', f'{file_name}.align')\n",
    "    frames = load_video(video_path)\n",
    "    alignments = load_alignments(alignment_path)\n",
    "    return frames, alignments\n",
    "\n",
    "# Mappable function for tf.data\n",
    "def mappable_function(path: str) -> List[str]:\n",
    "    result = tf.py_function(load_data, [path], (tf.float32, tf.int64))\n",
    "    return result\n",
    "\n",
    "# Prepare dataset\n",
    "data = tf.data.Dataset.list_files('./data/s1/*mpg')\n",
    "data = data.shuffle(500, reshuffle_each_iteration=False)\n",
    "data = data.map(mappable_function)\n",
    "data = data.padded_batch(2, padded_shapes=([75, 46, 140, 1], [40]))\n",
    "data = data.prefetch(tf.data.AUTOTUNE)\n",
    "\n",
    "# Train and test split\n",
    "train = data.take(450).repeat()\n",
    "test = data.skip(450).repeat()\n",
    "\n",
    "# Create GIF for visualization\n",
    "test_iterator = iter(test)\n",
    "val = next(test_iterator)\n",
    "frames = [np.squeeze(frame) for frame in val[0][0]]\n",
    "frames = [np.uint8(frame * 255) for frame in frames]\n",
    "imageio.mimsave('./animation.gif', frames, fps=10)\n",
    "\n",
    "# Build the model\n",
    "from tensorflow.keras.models import Sequential\n",
    "from tensorflow.keras.layers import Conv3D, LSTM, Dense, Dropout, Bidirectional, MaxPool3D, Activation, TimeDistributed, Flatten\n",
    "from tensorflow.keras.optimizers import Adam\n",
    "from tensorflow.keras.callbacks import ModelCheckpoint, LearningRateScheduler\n",
    "\n",
    "model = Sequential()\n",
    "model.add(Conv3D(128, 3, input_shape=(75, 46, 140, 1), padding='same'))\n",
    "model.add(Activation('relu'))\n",
    "model.add(MaxPool3D((1, 2, 2)))\n",
    "\n",
    "model.add(Conv3D(256, 3, padding='same'))\n",
    "model.add(Activation('relu'))\n",
    "model.add(MaxPool3D((1, 2, 2)))\n",
    "\n",
    "model.add(Conv3D(75, 3, padding='same'))\n",
    "model.add(Activation('relu'))\n",
    "model.add(MaxPool3D((1, 2, 2)))\n",
    "\n",
    "model.add(TimeDistributed(Flatten()))\n",
    "\n",
    "model.add(Bidirectional(LSTM(128, kernel_initializer='Orthogonal', return_sequences=True)))\n",
    "model.add(Dropout(.5))\n",
    "\n",
    "model.add(Bidirectional(LSTM(128, kernel_initializer='Orthogonal', return_sequences=True)))\n",
    "model.add(Dropout(.5))\n",
    "\n",
    "model.add(Dense(char_to_num.vocabulary_size() + 1, kernel_initializer='he_normal', activation='softmax'))\n",
    "\n",
    "# Learning rate scheduler\n",
    "def scheduler(epoch, lr):\n",
    "    if epoch < 30:\n",
    "        return lr\n",
    "    else:\n",
    "        return lr * tf.math.exp(-0.1)\n",
    "\n",
    "# Custom CTC Loss\n",
    "def CTCLoss(y_true, y_pred):\n",
    "    batch_len = tf.cast(tf.shape(y_true)[0], dtype=\"int64\")\n",
    "    input_length = tf.cast(tf.shape(y_pred)[1], dtype=\"int64\")\n",
    "    label_length = tf.cast(tf.shape(y_true)[1], dtype=\"int64\")\n",
    "\n",
    "    input_length = input_length * tf.ones(shape=(batch_len, 1), dtype=\"int64\")\n",
    "    label_length = label_length * tf.ones(shape=(batch_len, 1), dtype=\"int64\")\n",
    "\n",
    "    loss = tf.keras.backend.ctc_batch_cost(y_true, y_pred, input_length, label_length)\n",
    "    return loss\n",
    "\n",
    "# Callback to show predictions\n",
    "class ProduceExample(tf.keras.callbacks.Callback):\n",
    "    def __init__(self, dataset_iterator) -> None:\n",
    "        self.dataset_iterator = dataset_iterator\n",
    "\n",
    "    def on_epoch_end(self, epoch, logs=None) -> None:\n",
    "        try:\n",
    "            data = next(self.dataset_iterator)\n",
    "            yhat = self.model.predict(data[0])\n",
    "            decoded = tf.keras.backend.ctc_decode(yhat, [75, 75], greedy=False)[0][0].numpy()\n",
    "            for x in range(len(yhat)):\n",
    "                print('Original:', tf.strings.reduce_join(num_to_char(data[1][x])).numpy().decode('utf-8'))\n",
    "                print('Prediction:', tf.strings.reduce_join(num_to_char(decoded[x])).numpy().decode('utf-8'))\n",
    "                print('~' * 100)\n",
    "        except StopIteration:\n",
    "            print(\"No more data in the dataset.\")\n",
    "\n",
    "# Compile and train the model\n",
    "batch_size = 2\n",
    "steps_per_epoch = 450 // batch_size\n",
    "validation_steps = 50 // batch_size\n",
    "\n",
    "model.compile(optimizer=Adam(learning_rate=0.0001), loss=CTCLoss)\n",
    "\n",
    "checkpoint_callback = ModelCheckpoint(\n",
    "    os.path.join('models', 'checkpoint.weights.h5'), monitor='loss', save_weights_only=True\n",
    ")\n",
    "schedule_callback = LearningRateScheduler(scheduler)\n",
    "example_iterator = iter(test)\n",
    "example_callback = ProduceExample(example_iterator)\n",
    "\n",
    "model.fit(\n",
    "    train,\n",
    "    validation_data=test,\n",
    "    steps_per_epoch=steps_per_epoch,\n",
    "    validation_steps=validation_steps,\n",
    "    epochs=100,\n",
    "    callbacks=[checkpoint_callback, schedule_callback, example_callback]\n",
    ")"
   ]
  }
 ],
 "metadata": {
  "kernelspec": {
   "display_name": "Python 3 (ipykernel)",
   "language": "python",
   "name": "python3"
  },
  "language_info": {
   "codemirror_mode": {
    "name": "ipython",
    "version": 3
   },
   "file_extension": ".py",
   "mimetype": "text/x-python",
   "name": "python",
   "nbconvert_exporter": "python",
   "pygments_lexer": "ipython3",
   "version": "3.11.2"
  }
 },
 "nbformat": 4,
 "nbformat_minor": 5
}
